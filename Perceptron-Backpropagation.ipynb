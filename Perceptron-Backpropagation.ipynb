{
 "cells": [
  {
   "cell_type": "code",
   "execution_count": 3,
   "metadata": {},
   "outputs": [],
   "source": [
    "import numpy as np\n",
    "import pandas as pd\n",
    "import matplotlib.pyplot as plt"
   ]
  },
  {
   "cell_type": "code",
   "execution_count": 4,
   "metadata": {},
   "outputs": [],
   "source": [
    "#importing dataset \n",
    "dataset = pd.read_csv('Bank_Data.csv')\n",
    "x=dataset.iloc[:,3:13].values\n",
    "y=dataset.iloc[:,13].values"
   ]
  },
  {
   "cell_type": "code",
   "execution_count": 5,
   "metadata": {},
   "outputs": [
    {
     "data": {
      "text/html": [
       "<div>\n",
       "<style scoped>\n",
       "    .dataframe tbody tr th:only-of-type {\n",
       "        vertical-align: middle;\n",
       "    }\n",
       "\n",
       "    .dataframe tbody tr th {\n",
       "        vertical-align: top;\n",
       "    }\n",
       "\n",
       "    .dataframe thead th {\n",
       "        text-align: right;\n",
       "    }\n",
       "</style>\n",
       "<table border=\"1\" class=\"dataframe\">\n",
       "  <thead>\n",
       "    <tr style=\"text-align: right;\">\n",
       "      <th></th>\n",
       "      <th>RowNumber</th>\n",
       "      <th>CustomerId</th>\n",
       "      <th>Surname</th>\n",
       "      <th>CreditScore</th>\n",
       "      <th>Geography</th>\n",
       "      <th>Gender</th>\n",
       "      <th>Age</th>\n",
       "      <th>Tenure</th>\n",
       "      <th>Balance</th>\n",
       "      <th>NumOfProducts</th>\n",
       "      <th>HasCrCard</th>\n",
       "      <th>IsActiveMember</th>\n",
       "      <th>EstimatedSalary</th>\n",
       "      <th>Exited</th>\n",
       "    </tr>\n",
       "  </thead>\n",
       "  <tbody>\n",
       "    <tr>\n",
       "      <th>0</th>\n",
       "      <td>1</td>\n",
       "      <td>15634602</td>\n",
       "      <td>Hargrave</td>\n",
       "      <td>619</td>\n",
       "      <td>France</td>\n",
       "      <td>Female</td>\n",
       "      <td>42</td>\n",
       "      <td>2</td>\n",
       "      <td>0.00</td>\n",
       "      <td>1</td>\n",
       "      <td>1</td>\n",
       "      <td>1</td>\n",
       "      <td>101348.88</td>\n",
       "      <td>1</td>\n",
       "    </tr>\n",
       "    <tr>\n",
       "      <th>1</th>\n",
       "      <td>2</td>\n",
       "      <td>15647311</td>\n",
       "      <td>Hill</td>\n",
       "      <td>608</td>\n",
       "      <td>Spain</td>\n",
       "      <td>Female</td>\n",
       "      <td>41</td>\n",
       "      <td>1</td>\n",
       "      <td>83807.86</td>\n",
       "      <td>1</td>\n",
       "      <td>0</td>\n",
       "      <td>1</td>\n",
       "      <td>112542.58</td>\n",
       "      <td>0</td>\n",
       "    </tr>\n",
       "    <tr>\n",
       "      <th>2</th>\n",
       "      <td>3</td>\n",
       "      <td>15619304</td>\n",
       "      <td>Onio</td>\n",
       "      <td>502</td>\n",
       "      <td>France</td>\n",
       "      <td>Female</td>\n",
       "      <td>42</td>\n",
       "      <td>8</td>\n",
       "      <td>159660.80</td>\n",
       "      <td>3</td>\n",
       "      <td>1</td>\n",
       "      <td>0</td>\n",
       "      <td>113931.57</td>\n",
       "      <td>1</td>\n",
       "    </tr>\n",
       "    <tr>\n",
       "      <th>3</th>\n",
       "      <td>4</td>\n",
       "      <td>15701354</td>\n",
       "      <td>Boni</td>\n",
       "      <td>699</td>\n",
       "      <td>France</td>\n",
       "      <td>Female</td>\n",
       "      <td>39</td>\n",
       "      <td>1</td>\n",
       "      <td>0.00</td>\n",
       "      <td>2</td>\n",
       "      <td>0</td>\n",
       "      <td>0</td>\n",
       "      <td>93826.63</td>\n",
       "      <td>0</td>\n",
       "    </tr>\n",
       "    <tr>\n",
       "      <th>4</th>\n",
       "      <td>5</td>\n",
       "      <td>15737888</td>\n",
       "      <td>Mitchell</td>\n",
       "      <td>850</td>\n",
       "      <td>Spain</td>\n",
       "      <td>Female</td>\n",
       "      <td>43</td>\n",
       "      <td>2</td>\n",
       "      <td>125510.82</td>\n",
       "      <td>1</td>\n",
       "      <td>1</td>\n",
       "      <td>1</td>\n",
       "      <td>79084.10</td>\n",
       "      <td>0</td>\n",
       "    </tr>\n",
       "  </tbody>\n",
       "</table>\n",
       "</div>"
      ],
      "text/plain": [
       "   RowNumber  CustomerId   Surname  CreditScore Geography  Gender  Age  \\\n",
       "0          1    15634602  Hargrave          619    France  Female   42   \n",
       "1          2    15647311      Hill          608     Spain  Female   41   \n",
       "2          3    15619304      Onio          502    France  Female   42   \n",
       "3          4    15701354      Boni          699    France  Female   39   \n",
       "4          5    15737888  Mitchell          850     Spain  Female   43   \n",
       "\n",
       "   Tenure    Balance  NumOfProducts  HasCrCard  IsActiveMember  \\\n",
       "0       2       0.00              1          1               1   \n",
       "1       1   83807.86              1          0               1   \n",
       "2       8  159660.80              3          1               0   \n",
       "3       1       0.00              2          0               0   \n",
       "4       2  125510.82              1          1               1   \n",
       "\n",
       "   EstimatedSalary  Exited  \n",
       "0        101348.88       1  \n",
       "1        112542.58       0  \n",
       "2        113931.57       1  \n",
       "3         93826.63       0  \n",
       "4         79084.10       0  "
      ]
     },
     "execution_count": 5,
     "metadata": {},
     "output_type": "execute_result"
    }
   ],
   "source": [
    "dataset.head(5)"
   ]
  },
  {
   "cell_type": "code",
   "execution_count": 6,
   "metadata": {},
   "outputs": [
    {
     "data": {
      "text/plain": [
       "array([[619, 'France', 'Female', ..., 1, 1, 101348.88],\n",
       "       [608, 'Spain', 'Female', ..., 0, 1, 112542.58],\n",
       "       [502, 'France', 'Female', ..., 1, 0, 113931.57],\n",
       "       ...,\n",
       "       [709, 'France', 'Female', ..., 0, 1, 42085.58],\n",
       "       [772, 'Germany', 'Male', ..., 1, 0, 92888.52],\n",
       "       [792, 'France', 'Female', ..., 1, 0, 38190.78]], dtype=object)"
      ]
     },
     "execution_count": 6,
     "metadata": {},
     "output_type": "execute_result"
    }
   ],
   "source": [
    "x"
   ]
  },
  {
   "cell_type": "code",
   "execution_count": 7,
   "metadata": {},
   "outputs": [
    {
     "data": {
      "text/plain": [
       "array([1, 0, 1, ..., 1, 1, 0])"
      ]
     },
     "execution_count": 7,
     "metadata": {},
     "output_type": "execute_result"
    }
   ],
   "source": [
    "y"
   ]
  },
  {
   "cell_type": "code",
   "execution_count": 8,
   "metadata": {},
   "outputs": [],
   "source": [
    "#Encoding categorical data, when we have categorical data use Lableencoder\n",
    "from sklearn.preprocessing import LabelEncoder, OneHotEncoder"
   ]
  },
  {
   "cell_type": "code",
   "execution_count": 9,
   "metadata": {},
   "outputs": [],
   "source": [
    "labelencoder_x_1 = LabelEncoder()\n",
    "x[:,1] = labelencoder_x_1.fit_transform(x[:,1])"
   ]
  },
  {
   "cell_type": "code",
   "execution_count": 10,
   "metadata": {},
   "outputs": [],
   "source": [
    "labelencoder_x_2 = LabelEncoder()\n",
    "x[:,2] = labelencoder_x_2.fit_transform(x[:,2])"
   ]
  },
  {
   "cell_type": "code",
   "execution_count": 11,
   "metadata": {},
   "outputs": [
    {
     "data": {
      "text/plain": [
       "array([[619, 0, 0, ..., 1, 1, 101348.88],\n",
       "       [608, 2, 0, ..., 0, 1, 112542.58],\n",
       "       [502, 0, 0, ..., 1, 0, 113931.57],\n",
       "       ...,\n",
       "       [709, 0, 0, ..., 0, 1, 42085.58],\n",
       "       [772, 1, 1, ..., 1, 0, 92888.52],\n",
       "       [792, 0, 0, ..., 1, 0, 38190.78]], dtype=object)"
      ]
     },
     "execution_count": 11,
     "metadata": {},
     "output_type": "execute_result"
    }
   ],
   "source": [
    "x"
   ]
  },
  {
   "cell_type": "code",
   "execution_count": 12,
   "metadata": {},
   "outputs": [
    {
     "data": {
      "text/plain": [
       "array([[1.0000000e+00, 0.0000000e+00, 0.0000000e+00, ..., 1.0000000e+00,\n",
       "        1.0000000e+00, 1.0134888e+05],\n",
       "       [0.0000000e+00, 0.0000000e+00, 1.0000000e+00, ..., 0.0000000e+00,\n",
       "        1.0000000e+00, 1.1254258e+05],\n",
       "       [1.0000000e+00, 0.0000000e+00, 0.0000000e+00, ..., 1.0000000e+00,\n",
       "        0.0000000e+00, 1.1393157e+05],\n",
       "       ...,\n",
       "       [1.0000000e+00, 0.0000000e+00, 0.0000000e+00, ..., 0.0000000e+00,\n",
       "        1.0000000e+00, 4.2085580e+04],\n",
       "       [0.0000000e+00, 1.0000000e+00, 0.0000000e+00, ..., 1.0000000e+00,\n",
       "        0.0000000e+00, 9.2888520e+04],\n",
       "       [1.0000000e+00, 0.0000000e+00, 0.0000000e+00, ..., 1.0000000e+00,\n",
       "        0.0000000e+00, 3.8190780e+04]])"
      ]
     },
     "execution_count": 12,
     "metadata": {},
     "output_type": "execute_result"
    }
   ],
   "source": [
    "onehotencoder = OneHotEncoder(categorical_features=[1])\n",
    "x=onehotencoder.fit_transform(x).toarray()\n",
    "x"
   ]
  },
  {
   "cell_type": "code",
   "execution_count": 13,
   "metadata": {},
   "outputs": [],
   "source": [
    "x = x[:,1:] #To avoid dummy variable trap, leads to correlation of variables hence we avoid it"
   ]
  },
  {
   "cell_type": "code",
   "execution_count": 14,
   "metadata": {},
   "outputs": [
    {
     "data": {
      "text/plain": [
       "array([[0.0000000e+00, 0.0000000e+00, 6.1900000e+02, ..., 1.0000000e+00,\n",
       "        1.0000000e+00, 1.0134888e+05],\n",
       "       [0.0000000e+00, 1.0000000e+00, 6.0800000e+02, ..., 0.0000000e+00,\n",
       "        1.0000000e+00, 1.1254258e+05],\n",
       "       [0.0000000e+00, 0.0000000e+00, 5.0200000e+02, ..., 1.0000000e+00,\n",
       "        0.0000000e+00, 1.1393157e+05],\n",
       "       ...,\n",
       "       [0.0000000e+00, 0.0000000e+00, 7.0900000e+02, ..., 0.0000000e+00,\n",
       "        1.0000000e+00, 4.2085580e+04],\n",
       "       [1.0000000e+00, 0.0000000e+00, 7.7200000e+02, ..., 1.0000000e+00,\n",
       "        0.0000000e+00, 9.2888520e+04],\n",
       "       [0.0000000e+00, 0.0000000e+00, 7.9200000e+02, ..., 1.0000000e+00,\n",
       "        0.0000000e+00, 3.8190780e+04]])"
      ]
     },
     "execution_count": 14,
     "metadata": {},
     "output_type": "execute_result"
    }
   ],
   "source": [
    "x"
   ]
  },
  {
   "cell_type": "code",
   "execution_count": 15,
   "metadata": {},
   "outputs": [],
   "source": [
    "#if your output is categorical value i.e y = 0,1,2\n",
    "#use\n",
    "#labelencoder_y = LabelEncoder()\n",
    "#y = labelencoder_y.fit_transform(y)"
   ]
  },
  {
   "cell_type": "code",
   "execution_count": 16,
   "metadata": {},
   "outputs": [],
   "source": [
    "#splitting the dataset\n",
    "from sklearn.model_selection import train_test_split\n",
    "x_train, x_test, y_train, y_test = train_test_split(x,y,test_size = 0.2, random_state = 0)"
   ]
  },
  {
   "cell_type": "code",
   "execution_count": 17,
   "metadata": {},
   "outputs": [],
   "source": [
    "#feature scaling is a must in nueral network, as we have large number of data leading to heavy computational\n",
    "from sklearn.preprocessing import StandardScaler\n",
    "sc = StandardScaler()\n",
    "x_train = sc.fit_transform(x_train)\n",
    "x_test = sc.transform(x_test)"
   ]
  },
  {
   "cell_type": "code",
   "execution_count": 18,
   "metadata": {},
   "outputs": [
    {
     "name": "stderr",
     "output_type": "stream",
     "text": [
      "/anaconda3/lib/python3.6/site-packages/h5py/__init__.py:36: FutureWarning: Conversion of the second argument of issubdtype from `float` to `np.floating` is deprecated. In future, it will be treated as `np.float64 == np.dtype(float).type`.\n",
      "  from ._conv import register_converters as _register_converters\n",
      "Using TensorFlow backend.\n"
     ]
    }
   ],
   "source": [
    "#lets create an ANN\n",
    "#import the keras libraries and packages\n",
    "import keras\n",
    "from keras.models import Sequential\n",
    "from keras.layers import Dense"
   ]
  },
  {
   "cell_type": "code",
   "execution_count": 19,
   "metadata": {},
   "outputs": [],
   "source": [
    "#feedforward is a sequential network hence model is sequential"
   ]
  },
  {
   "cell_type": "code",
   "execution_count": 20,
   "metadata": {},
   "outputs": [],
   "source": [
    "#to represent the number of layers in the ANN, we use dense"
   ]
  },
  {
   "cell_type": "code",
   "execution_count": 21,
   "metadata": {},
   "outputs": [],
   "source": [
    "#initialising ANN\n",
    "classifier = Sequential()"
   ]
  },
  {
   "cell_type": "code",
   "execution_count": 22,
   "metadata": {},
   "outputs": [
    {
     "name": "stderr",
     "output_type": "stream",
     "text": [
      "/anaconda3/lib/python3.6/site-packages/ipykernel_launcher.py:2: UserWarning: Update your `Dense` call to the Keras 2 API: `Dense(activation=\"relu\", input_dim=11, units=6, kernel_initializer=\"uniform\")`\n",
      "  \n"
     ]
    }
   ],
   "source": [
    "#Adding the input layer and first hidden layer\n",
    "classifier.add(Dense(output_dim = 6, init = 'uniform', activation = 'relu', input_dim = 11))"
   ]
  },
  {
   "cell_type": "code",
   "execution_count": 23,
   "metadata": {},
   "outputs": [],
   "source": [
    "#init = uniform is the initializing weights such that weights values are closer to zero\n",
    "#1.what are other methods to initialize weights?"
   ]
  },
  {
   "cell_type": "code",
   "execution_count": 24,
   "metadata": {},
   "outputs": [
    {
     "name": "stderr",
     "output_type": "stream",
     "text": [
      "/anaconda3/lib/python3.6/site-packages/ipykernel_launcher.py:2: UserWarning: Update your `Dense` call to the Keras 2 API: `Dense(activation=\"relu\", units=6, kernel_initializer=\"uniform\")`\n",
      "  \n"
     ]
    }
   ],
   "source": [
    "#adding the second hidden layer\n",
    "classifier.add(Dense(output_dim = 6, init = 'uniform', activation='relu'))"
   ]
  },
  {
   "cell_type": "code",
   "execution_count": 25,
   "metadata": {},
   "outputs": [],
   "source": [
    "#2.overfitting in ANN, how it happens, how to avoid it?"
   ]
  },
  {
   "cell_type": "code",
   "execution_count": 26,
   "metadata": {},
   "outputs": [],
   "source": [
    "#3.perform the same model coding for the theory question solved in class?"
   ]
  },
  {
   "cell_type": "code",
   "execution_count": 27,
   "metadata": {},
   "outputs": [
    {
     "name": "stderr",
     "output_type": "stream",
     "text": [
      "/anaconda3/lib/python3.6/site-packages/ipykernel_launcher.py:2: UserWarning: Update your `Dense` call to the Keras 2 API: `Dense(activation=\"sigmoid\", units=1, kernel_initializer=\"uniform\")`\n",
      "  \n"
     ]
    }
   ],
   "source": [
    "#Adding the output layer\n",
    "classifier.add(Dense(output_dim=1, init = 'uniform', activation='sigmoid'))"
   ]
  },
  {
   "cell_type": "code",
   "execution_count": 28,
   "metadata": {},
   "outputs": [],
   "source": [
    "#Compile the ANN\n",
    "#adam is the gradient discent technique, used to get the error for weight updation\n",
    "#binary_crossentropy fn is used to get hold of loss at the end of the iteration\n",
    "classifier.compile(optimizer='adam', loss='binary_crossentropy',metrics=['accuracy'])"
   ]
  },
  {
   "cell_type": "code",
   "execution_count": 29,
   "metadata": {},
   "outputs": [
    {
     "name": "stderr",
     "output_type": "stream",
     "text": [
      "/anaconda3/lib/python3.6/site-packages/ipykernel_launcher.py:2: UserWarning: The `nb_epoch` argument in `fit` has been renamed `epochs`.\n",
      "  \n"
     ]
    },
    {
     "name": "stdout",
     "output_type": "stream",
     "text": [
      "Epoch 1/100\n",
      "8000/8000 [==============================] - 2s 218us/step - loss: 0.4805 - acc: 0.7960\n",
      "Epoch 2/100\n",
      "8000/8000 [==============================] - 1s 173us/step - loss: 0.4298 - acc: 0.7960\n",
      "Epoch 3/100\n",
      "8000/8000 [==============================] - 1s 165us/step - loss: 0.4245 - acc: 0.7960\n",
      "Epoch 4/100\n",
      "8000/8000 [==============================] - 1s 168us/step - loss: 0.4189 - acc: 0.8167\n",
      "Epoch 5/100\n",
      "8000/8000 [==============================] - 2s 195us/step - loss: 0.4159 - acc: 0.8259\n",
      "Epoch 6/100\n",
      "8000/8000 [==============================] - 1s 160us/step - loss: 0.4137 - acc: 0.8292\n",
      "Epoch 7/100\n",
      "8000/8000 [==============================] - 1s 161us/step - loss: 0.4124 - acc: 0.8291\n",
      "Epoch 8/100\n",
      "8000/8000 [==============================] - 2s 195us/step - loss: 0.4107 - acc: 0.8319\n",
      "Epoch 9/100\n",
      "8000/8000 [==============================] - 1s 155us/step - loss: 0.4097 - acc: 0.8337\n",
      "Epoch 10/100\n",
      "8000/8000 [==============================] - 1s 143us/step - loss: 0.4087 - acc: 0.8330\n",
      "Epoch 11/100\n",
      "8000/8000 [==============================] - 1s 144us/step - loss: 0.4082 - acc: 0.8341\n",
      "Epoch 12/100\n",
      "8000/8000 [==============================] - 1s 143us/step - loss: 0.4068 - acc: 0.8336\n",
      "Epoch 13/100\n",
      "8000/8000 [==============================] - 1s 146us/step - loss: 0.4063 - acc: 0.8331\n",
      "Epoch 14/100\n",
      "8000/8000 [==============================] - 2s 267us/step - loss: 0.4058 - acc: 0.8337\n",
      "Epoch 15/100\n",
      "8000/8000 [==============================] - 2s 218us/step - loss: 0.4055 - acc: 0.8341 0s - loss:\n",
      "Epoch 16/100\n",
      "8000/8000 [==============================] - 2s 192us/step - loss: 0.4051 - acc: 0.8345\n",
      "Epoch 17/100\n",
      "8000/8000 [==============================] - 1s 169us/step - loss: 0.4044 - acc: 0.8344\n",
      "Epoch 18/100\n",
      "8000/8000 [==============================] - 2s 200us/step - loss: 0.4045 - acc: 0.8350\n",
      "Epoch 19/100\n",
      "8000/8000 [==============================] - 1s 149us/step - loss: 0.4044 - acc: 0.8350\n",
      "Epoch 20/100\n",
      "8000/8000 [==============================] - 1s 156us/step - loss: 0.4038 - acc: 0.8334\n",
      "Epoch 21/100\n",
      "8000/8000 [==============================] - 1s 169us/step - loss: 0.4032 - acc: 0.8342 0s - loss: 0.3924 - acc: 0.839 - ETA: 0s - loss: 0.3917 - acc\n",
      "Epoch 22/100\n",
      "8000/8000 [==============================] - 1s 159us/step - loss: 0.4037 - acc: 0.8346\n",
      "Epoch 23/100\n",
      "8000/8000 [==============================] - 1s 164us/step - loss: 0.4034 - acc: 0.8341\n",
      "Epoch 24/100\n",
      "8000/8000 [==============================] - 1s 156us/step - loss: 0.4031 - acc: 0.8335\n",
      "Epoch 25/100\n",
      "8000/8000 [==============================] - 1s 167us/step - loss: 0.4024 - acc: 0.8335\n",
      "Epoch 26/100\n",
      "8000/8000 [==============================] - 1s 158us/step - loss: 0.4025 - acc: 0.8331\n",
      "Epoch 27/100\n",
      "8000/8000 [==============================] - 1s 163us/step - loss: 0.4027 - acc: 0.8350 0s - loss: 0.4070 - acc: \n",
      "Epoch 28/100\n",
      "8000/8000 [==============================] - 1s 160us/step - loss: 0.4024 - acc: 0.8347\n",
      "Epoch 29/100\n",
      "8000/8000 [==============================] - 1s 157us/step - loss: 0.4017 - acc: 0.8345\n",
      "Epoch 30/100\n",
      "8000/8000 [==============================] - 1s 177us/step - loss: 0.4024 - acc: 0.8345\n",
      "Epoch 31/100\n",
      "8000/8000 [==============================] - 1s 168us/step - loss: 0.4023 - acc: 0.8351\n",
      "Epoch 32/100\n",
      "8000/8000 [==============================] - 1s 161us/step - loss: 0.4015 - acc: 0.8352\n",
      "Epoch 33/100\n",
      "8000/8000 [==============================] - 1s 157us/step - loss: 0.4024 - acc: 0.8337\n",
      "Epoch 34/100\n",
      "8000/8000 [==============================] - 1s 177us/step - loss: 0.4016 - acc: 0.8344\n",
      "Epoch 35/100\n",
      "8000/8000 [==============================] - 1s 161us/step - loss: 0.4021 - acc: 0.8351\n",
      "Epoch 36/100\n",
      "8000/8000 [==============================] - 1s 162us/step - loss: 0.4016 - acc: 0.8335\n",
      "Epoch 37/100\n",
      "8000/8000 [==============================] - 1s 162us/step - loss: 0.4015 - acc: 0.8352 0s - loss: 0.4109 - \n",
      "Epoch 38/100\n",
      "8000/8000 [==============================] - 1s 164us/step - loss: 0.4016 - acc: 0.8340\n",
      "Epoch 39/100\n",
      "8000/8000 [==============================] - 1s 159us/step - loss: 0.4019 - acc: 0.8341\n",
      "Epoch 40/100\n",
      "8000/8000 [==============================] - 1s 162us/step - loss: 0.4013 - acc: 0.8346\n",
      "Epoch 41/100\n",
      "8000/8000 [==============================] - 1s 162us/step - loss: 0.4013 - acc: 0.8336\n",
      "Epoch 42/100\n",
      "8000/8000 [==============================] - 1s 162us/step - loss: 0.4014 - acc: 0.8355\n",
      "Epoch 43/100\n",
      "8000/8000 [==============================] - 1s 163us/step - loss: 0.4014 - acc: 0.8346 0s - loss: 0.\n",
      "Epoch 44/100\n",
      "8000/8000 [==============================] - 1s 161us/step - loss: 0.4016 - acc: 0.8337\n",
      "Epoch 45/100\n",
      "8000/8000 [==============================] - 1s 163us/step - loss: 0.4011 - acc: 0.8347\n",
      "Epoch 46/100\n",
      "8000/8000 [==============================] - 1s 161us/step - loss: 0.4013 - acc: 0.8370\n",
      "Epoch 47/100\n",
      "8000/8000 [==============================] - 1s 168us/step - loss: 0.4009 - acc: 0.8355\n",
      "Epoch 48/100\n",
      "8000/8000 [==============================] - 1s 161us/step - loss: 0.4005 - acc: 0.8354\n",
      "Epoch 49/100\n",
      "8000/8000 [==============================] - 1s 163us/step - loss: 0.4013 - acc: 0.8335 0s - loss: 0.3963 - acc: \n",
      "Epoch 50/100\n",
      "8000/8000 [==============================] - 1s 160us/step - loss: 0.4009 - acc: 0.8350\n",
      "Epoch 51/100\n",
      "8000/8000 [==============================] - 1s 147us/step - loss: 0.4008 - acc: 0.8365\n",
      "Epoch 52/100\n",
      "8000/8000 [==============================] - 1s 150us/step - loss: 0.4010 - acc: 0.8341\n",
      "Epoch 53/100\n",
      "8000/8000 [==============================] - 1s 149us/step - loss: 0.4010 - acc: 0.8349\n",
      "Epoch 54/100\n",
      "8000/8000 [==============================] - 1s 144us/step - loss: 0.4012 - acc: 0.8352\n",
      "Epoch 55/100\n",
      "8000/8000 [==============================] - 1s 142us/step - loss: 0.4007 - acc: 0.8359\n",
      "Epoch 56/100\n",
      "8000/8000 [==============================] - 1s 141us/step - loss: 0.4011 - acc: 0.8351\n",
      "Epoch 57/100\n",
      "8000/8000 [==============================] - 1s 142us/step - loss: 0.4007 - acc: 0.8341\n",
      "Epoch 58/100\n",
      "8000/8000 [==============================] - 1s 135us/step - loss: 0.4009 - acc: 0.8341\n",
      "Epoch 59/100\n",
      "8000/8000 [==============================] - 1s 141us/step - loss: 0.4007 - acc: 0.8339\n",
      "Epoch 60/100\n",
      "8000/8000 [==============================] - 1s 149us/step - loss: 0.4013 - acc: 0.8341\n",
      "Epoch 61/100\n",
      "8000/8000 [==============================] - 1s 152us/step - loss: 0.4006 - acc: 0.8361\n",
      "Epoch 62/100\n",
      "8000/8000 [==============================] - 1s 152us/step - loss: 0.4009 - acc: 0.8352\n",
      "Epoch 63/100\n",
      "8000/8000 [==============================] - 1s 142us/step - loss: 0.4002 - acc: 0.8365\n",
      "Epoch 64/100\n",
      "8000/8000 [==============================] - 1s 142us/step - loss: 0.4006 - acc: 0.8352\n",
      "Epoch 65/100\n",
      "8000/8000 [==============================] - 1s 144us/step - loss: 0.4010 - acc: 0.8344\n",
      "Epoch 66/100\n",
      "8000/8000 [==============================] - 1s 137us/step - loss: 0.4001 - acc: 0.8355\n",
      "Epoch 67/100\n",
      "8000/8000 [==============================] - 1s 154us/step - loss: 0.4008 - acc: 0.8351\n",
      "Epoch 68/100\n",
      "8000/8000 [==============================] - 1s 156us/step - loss: 0.4006 - acc: 0.8346\n",
      "Epoch 69/100\n",
      "8000/8000 [==============================] - 1s 164us/step - loss: 0.4006 - acc: 0.8355\n",
      "Epoch 70/100\n",
      "8000/8000 [==============================] - 1s 157us/step - loss: 0.4003 - acc: 0.8329\n",
      "Epoch 71/100\n",
      "8000/8000 [==============================] - 1s 157us/step - loss: 0.4007 - acc: 0.8346\n",
      "Epoch 72/100\n",
      "8000/8000 [==============================] - 1s 148us/step - loss: 0.4004 - acc: 0.8336\n",
      "Epoch 73/100\n",
      "8000/8000 [==============================] - 1s 147us/step - loss: 0.4005 - acc: 0.8356\n",
      "Epoch 74/100\n",
      "8000/8000 [==============================] - 1s 153us/step - loss: 0.4003 - acc: 0.8352 0s - loss: 0.4109 - \n",
      "Epoch 75/100\n",
      "8000/8000 [==============================] - 1s 156us/step - loss: 0.4004 - acc: 0.8345\n",
      "Epoch 76/100\n",
      "8000/8000 [==============================] - 1s 148us/step - loss: 0.4003 - acc: 0.8327\n",
      "Epoch 77/100\n",
      "8000/8000 [==============================] - 1s 171us/step - loss: 0.4003 - acc: 0.8359 0s - loss: 0.4132\n",
      "Epoch 78/100\n",
      "8000/8000 [==============================] - 1s 156us/step - loss: 0.3999 - acc: 0.8364\n",
      "Epoch 79/100\n",
      "8000/8000 [==============================] - 1s 160us/step - loss: 0.4008 - acc: 0.8352\n",
      "Epoch 80/100\n",
      "8000/8000 [==============================] - 1s 157us/step - loss: 0.4006 - acc: 0.8357\n",
      "Epoch 81/100\n",
      "8000/8000 [==============================] - 1s 140us/step - loss: 0.4003 - acc: 0.8335\n",
      "Epoch 82/100\n",
      "8000/8000 [==============================] - 1s 151us/step - loss: 0.4007 - acc: 0.8340\n",
      "Epoch 83/100\n",
      "8000/8000 [==============================] - 1s 147us/step - loss: 0.4001 - acc: 0.8334\n",
      "Epoch 84/100\n",
      "8000/8000 [==============================] - 1s 152us/step - loss: 0.4004 - acc: 0.8346\n",
      "Epoch 85/100\n",
      "8000/8000 [==============================] - 1s 147us/step - loss: 0.4005 - acc: 0.8352\n",
      "Epoch 86/100\n",
      "8000/8000 [==============================] - 1s 142us/step - loss: 0.3999 - acc: 0.8357\n",
      "Epoch 87/100\n",
      "8000/8000 [==============================] - 1s 144us/step - loss: 0.4005 - acc: 0.8354\n",
      "Epoch 88/100\n",
      "8000/8000 [==============================] - 1s 140us/step - loss: 0.4004 - acc: 0.8350\n",
      "Epoch 89/100\n",
      "8000/8000 [==============================] - 1s 142us/step - loss: 0.4000 - acc: 0.8337\n",
      "Epoch 90/100\n",
      "8000/8000 [==============================] - 1s 144us/step - loss: 0.4003 - acc: 0.8329\n",
      "Epoch 91/100\n",
      "8000/8000 [==============================] - 1s 143us/step - loss: 0.4001 - acc: 0.8357\n",
      "Epoch 92/100\n",
      "8000/8000 [==============================] - 1s 142us/step - loss: 0.4002 - acc: 0.8359\n",
      "Epoch 93/100\n",
      "8000/8000 [==============================] - 1s 141us/step - loss: 0.4006 - acc: 0.8340\n",
      "Epoch 94/100\n",
      "8000/8000 [==============================] - 1s 144us/step - loss: 0.4002 - acc: 0.8350\n",
      "Epoch 95/100\n",
      "8000/8000 [==============================] - 1s 142us/step - loss: 0.4002 - acc: 0.8337\n",
      "Epoch 96/100\n",
      "8000/8000 [==============================] - 1s 162us/step - loss: 0.4002 - acc: 0.8360\n",
      "Epoch 97/100\n",
      "8000/8000 [==============================] - 2s 193us/step - loss: 0.4004 - acc: 0.8362\n",
      "Epoch 98/100\n",
      "8000/8000 [==============================] - 1s 157us/step - loss: 0.4003 - acc: 0.8336\n",
      "Epoch 99/100\n",
      "8000/8000 [==============================] - 1s 153us/step - loss: 0.4000 - acc: 0.8347\n",
      "Epoch 100/100\n",
      "8000/8000 [==============================] - 1s 159us/step - loss: 0.4003 - acc: 0.8342\n"
     ]
    },
    {
     "data": {
      "text/plain": [
       "<keras.callbacks.History at 0x1a23c608d0>"
      ]
     },
     "execution_count": 29,
     "metadata": {},
     "output_type": "execute_result"
    }
   ],
   "source": [
    "#fitting th ANN to the training set\n",
    "classifier.fit(x_train,y_train, batch_size=10, nb_epoch = 100)"
   ]
  },
  {
   "cell_type": "code",
   "execution_count": 30,
   "metadata": {},
   "outputs": [],
   "source": [
    "#prediction\n",
    "y_pred = classifier.predict(x_test)\n",
    "y_pred = (y_pred > 0.5)"
   ]
  },
  {
   "cell_type": "code",
   "execution_count": 31,
   "metadata": {},
   "outputs": [
    {
     "data": {
      "text/plain": [
       "array([[False],\n",
       "       [False],\n",
       "       [False],\n",
       "       ...,\n",
       "       [False],\n",
       "       [False],\n",
       "       [False]])"
      ]
     },
     "execution_count": 31,
     "metadata": {},
     "output_type": "execute_result"
    }
   ],
   "source": [
    "y_pred"
   ]
  },
  {
   "cell_type": "code",
   "execution_count": 32,
   "metadata": {},
   "outputs": [],
   "source": [
    "#confusionmatrix\n",
    "from sklearn.metrics import confusion_matrix\n",
    "cm = confusion_matrix(y_test, y_pred)"
   ]
  },
  {
   "cell_type": "code",
   "execution_count": 33,
   "metadata": {},
   "outputs": [
    {
     "data": {
      "text/plain": [
       "array([[1555,   40],\n",
       "       [ 280,  125]])"
      ]
     },
     "execution_count": 33,
     "metadata": {},
     "output_type": "execute_result"
    }
   ],
   "source": [
    "cm"
   ]
  },
  {
   "cell_type": "code",
   "execution_count": 34,
   "metadata": {},
   "outputs": [],
   "source": [
    "TP = cm[1,1]\n",
    "FP = cm[0,1]\n",
    "TN = cm[1,0]\n",
    "FN = cm[0,0]\n",
    "Total = (TP+FP+TN+FN)"
   ]
  },
  {
   "cell_type": "code",
   "execution_count": 35,
   "metadata": {},
   "outputs": [],
   "source": [
    "Acc = (TP+FN)/Total"
   ]
  },
  {
   "cell_type": "code",
   "execution_count": 36,
   "metadata": {},
   "outputs": [
    {
     "data": {
      "text/plain": [
       "0.84"
      ]
     },
     "execution_count": 36,
     "metadata": {},
     "output_type": "execute_result"
    }
   ],
   "source": [
    "Acc"
   ]
  }
 ],
 "metadata": {
  "kernelspec": {
   "display_name": "Python 3",
   "language": "python",
   "name": "python3"
  },
  "language_info": {
   "codemirror_mode": {
    "name": "ipython",
    "version": 3
   },
   "file_extension": ".py",
   "mimetype": "text/x-python",
   "name": "python",
   "nbconvert_exporter": "python",
   "pygments_lexer": "ipython3",
   "version": "3.6.8"
  }
 },
 "nbformat": 4,
 "nbformat_minor": 2
}
