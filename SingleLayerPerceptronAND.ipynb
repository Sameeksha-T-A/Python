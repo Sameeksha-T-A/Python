{
 "cells": [
  {
   "cell_type": "code",
   "execution_count": 39,
   "metadata": {},
   "outputs": [],
   "source": [
    "import numpy as np\n",
    "import random\n",
    "import sys"
   ]
  },
  {
   "cell_type": "code",
   "execution_count": 40,
   "metadata": {},
   "outputs": [],
   "source": [
    "# [(inputs), expected output]\n",
    "and_fn = [[(1, 1), 1],\n",
    "            [(1, -1), -1],\n",
    "            [(-1, 1), -1],\n",
    "            [(-1, -1), -1]]"
   ]
  },
  {
   "cell_type": "code",
   "execution_count": 41,
   "metadata": {},
   "outputs": [],
   "source": [
    "def activation_function_and(yin):\n",
    "    if yin >= 1:\n",
    "        return 1\n",
    "    else:\n",
    "        return -1"
   ]
  },
  {
   "cell_type": "code",
   "execution_count": 43,
   "metadata": {},
   "outputs": [
    {
     "name": "stdout",
     "output_type": "stream",
     "text": [
      "// AND Function//\n",
      "inputs: (-1, -1)\n",
      "weighted sum: -1.358920471652047\n",
      "Expected output: -1\n",
      "Model found output: -1\n",
      "\n"
     ]
    }
   ],
   "source": [
    "def sl_Perceptron(gate):\n",
    "    bias = (1,) # the bias is always set to one\n",
    "    learning_rate = 0.3\n",
    "    n = 150 # number of epochs\n",
    "\n",
    "    weights = []\n",
    "    #initialize weights\n",
    "    for i in range(3):\n",
    "        weights.append(random.uniform(-1, 1))\n",
    "        \n",
    "    for j in range(n):\n",
    "        inputs, expected_output = random.choice(gate)\n",
    "        inputs = inputs + bias\n",
    "        weighted_sum = np.dot(inputs, weights)\n",
    "        found_output = activation_function_and(weighted_sum) # find the sign of the weighted sum\n",
    "        #if found_output != expected_output:\n",
    "        error = expected_output - found_output\n",
    "        # change the weights to include the error times input\n",
    "        weights += learning_rate * error * np.asarray(inputs)\n",
    "    \n",
    "    inputs, expected_output = random.choice(gate)\n",
    "    print(\"inputs: \" + str(inputs))\n",
    "    inputs = inputs + bias #add bias\n",
    "    weighted_sum = np.dot(inputs, weights)\n",
    "    print(\"weighted sum: \" + str(weighted_sum))\n",
    "    print(\"Expected output: \" + str(expected_output))\n",
    "    print(\"Model found output: \" + str(activation_function_and(weighted_sum)) + '\\n')\n",
    "\n",
    "print(\"// AND Function//\")\n",
    "sl_Perceptron(and_fn)"
   ]
  },
  {
   "cell_type": "code",
   "execution_count": null,
   "metadata": {},
   "outputs": [],
   "source": []
  }
 ],
 "metadata": {
  "kernelspec": {
   "display_name": "Python 3",
   "language": "python",
   "name": "python3"
  },
  "language_info": {
   "codemirror_mode": {
    "name": "ipython",
    "version": 3
   },
   "file_extension": ".py",
   "mimetype": "text/x-python",
   "name": "python",
   "nbconvert_exporter": "python",
   "pygments_lexer": "ipython3",
   "version": "3.6.8"
  }
 },
 "nbformat": 4,
 "nbformat_minor": 2
}
